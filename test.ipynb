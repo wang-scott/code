{
 "cells": [
  {
   "cell_type": "code",
   "execution_count": 30,
   "id": "a579844c",
   "metadata": {},
   "outputs": [],
   "source": [
    "import mainprogram\n",
    "from PIL import Image\n",
    "import numpy as np\n",
    "import csv\n",
    "import random\n",
    "from skimage import io\n",
    "from invert_LSB_module import *\n",
    "import os\n",
    "import pandas as pd"
   ]
  },
  {
   "cell_type": "code",
   "execution_count": 3,
   "id": "e95a815e",
   "metadata": {},
   "outputs": [],
   "source": [
    "name = 'jet'\n",
    "len_r = len_b = 4"
   ]
  },
  {
   "cell_type": "code",
   "execution_count": 4,
   "id": "3f2193c6",
   "metadata": {},
   "outputs": [
    {
     "name": "stdout",
     "output_type": "stream",
     "text": [
      "產生驗證碼完成\n"
     ]
    }
   ],
   "source": [
    "stego_img = io.imread(f'processed_image/{name}.png')\n",
    "authentication_code = hash_all_pixel(stego_img,len_r,len_b)"
   ]
  },
  {
   "cell_type": "code",
   "execution_count": 38,
   "id": "a8bb4b6b",
   "metadata": {},
   "outputs": [],
   "source": [
    "import mainprogram\n",
    "from PIL import Image\n",
    "import numpy as np\n",
    "import csv\n",
    "import random\n",
    "from skimage import io\n",
    "from invert_LSB_module import *\n",
    "import os\n",
    "import cv2\n",
    "\n",
    "def authorize(name, len_r=4, len_b=4, alpha=2):\n",
    "    # 初始化陣列\n",
    "    U_second = []\n",
    "    U_second_un = []\n",
    "    detect_image = np.zeros((512, 512, 3))\n",
    "    # 指定 CSV 檔案名稱\n",
    "    csv_filename = f'list/{name}.csv'\n",
    "    \n",
    "    # 從 CSV 檔案讀取資料\n",
    "    with open(csv_filename, mode='r', newline='', encoding='utf-8') as file:\n",
    "        reader = csv.reader(file)\n",
    "        # 跳過表頭\n",
    "        next(reader)\n",
    "        # 將資料放入陣列\n",
    "        for row in reader:\n",
    "            if row[0].strip() != \"\":\n",
    "                U_second.append(int(row[0]))\n",
    "            if row[1].strip() != \"\":\n",
    "                U_second_un.append(int(row[1]))\n",
    "                \n",
    "    print(\"U_second:\", U_second)\n",
    "    print(\"U_second_un:\", U_second_un)\n",
    " \n",
    "    stego_img = io.imread(f'embeding_noise/{name}.png')\n",
    "    I = Image.open(f'processed_image/{name}.png').convert('RGB')\n",
    "    I = np.array(I)\n",
    "    gray_img = rgb2gray(stego_img)\n",
    "    bin_matrix = dec2bin(stego_img)\n",
    "\n",
    "    len_bb = (len_r + len_b) // 2\n",
    "\n",
    "    # 開始驗證\n",
    "    detected_error = 0\n",
    "    divid4 = (stego_img//(2**len_r))*(2**len_r)\n",
    "    \n",
    "    for i in range(stego_img.shape[0]):\n",
    "        for j in range(stego_img.shape[1]):\n",
    "            ii = i * stego_img.shape[1] + j + 1\n",
    "            detect_image[i][j] = (255, 255, 255)\n",
    "            flag = True\n",
    "            if gray_img[i][j] in U_second_un:\n",
    "                ac1 = bin_matrix[i][j][2][6:] #取出的驗證碼\n",
    "                ac2 = dec2bin(gggg(stego_img[i][j], ii, alpha))[2][6:] #算出的驗證碼\n",
    "                if ac1 == ac2:\n",
    "                    detect_image[i][j] = (0, 0, 0) \n",
    "                    flag = False   \n",
    "            elif gray_img[i][j] in U_second:\n",
    "                ac1 = bin_matrix[i][j][2][8-len_bb:] \n",
    "                ac2 = dec2bin(proposed_unsolvable_case(stego_img[i][j], ii, len_bb))[2][8-len_bb:]\n",
    "                if ac1 == ac2:\n",
    "                    detect_image[i][j] = (0, 0, 0) \n",
    "                    flag = False\n",
    "            else:\n",
    "                a = int(Embedding(bin_matrix[i][j][2],authentication_code[i][j][:len_r],length=len_r),2)#red\n",
    "                b = int(Embedding(bin_matrix[i][j][2],authentication_code[i][j][:len_r],1,length=len_r),2)#red\n",
    "                ac_b = eee(a,b,stego_img[i][j][2])\n",
    "                c = int(Embedding(bin_matrix[i][j][0],authentication_code[i][j][len_r:],length=len_b),2)#blue\n",
    "                d = int(Embedding(bin_matrix[i][j][0],authentication_code[i][j][len_r:],1,length=len_b),2)#blue\n",
    "                ac_r = eee(c,d,stego_img[i][j][0])\n",
    "\n",
    "                current_r = int(bin_matrix[i][j][0],2)\n",
    "                current_b = int(bin_matrix[i][j][2],2)\n",
    "                if ac_r == current_r and ac_b == current_b:\n",
    "                    detect_image[i][j] = (0, 0, 0)\n",
    "                    flag = False\n",
    "            if flag:\n",
    "                detected_error += 1\n",
    "\n",
    "    diff_pixels = 0\n",
    "    for i in range(I.shape[0]):\n",
    "        for j in range(I.shape[1]):\n",
    "            if(I[i,j] != stego_img[i,j]).any():\n",
    "               diff_pixels+=1 \n",
    "               \n",
    "    accuracy = detected_error/diff_pixels\n",
    "    print(f\"Detected error: {detected_error}, Actual error: {diff_pixels}, Accuracy: {accuracy}\")\n",
    "    io.imshow(detect_image.astype(np.uint8))\n",
    "    return detected_error\n",
    "    \n",
    "def embeding(image,n):\n",
    "    def noise(I,Noise):\n",
    "        n_r,n_c = Noise.shape[0],Noise.shape[1]\n",
    "\n",
    "        r_base = random.randint(0,I.shape[0]-n_r)\n",
    "        c_base = random.randint(0,I.shape[1]-n_c)\n",
    "        for i in range(n_r):\n",
    "            for j in range(n_c):\n",
    "                if(Noise[i, j,3]==0):\n",
    "                    continue\n",
    "                for k in range(3):\n",
    "                    I[i+r_base,j+c_base,k] = Noise[i,j,k]\n",
    "\n",
    "        return I\n",
    "    I=image.copy()\n",
    "    path2 = \"noise/\"+n+\".png\"\n",
    "    I2=io.imread(path2)\n",
    "    e = noise(I,I2)\n",
    "    io.imshow(e)\n",
    "    #io.show() \n",
    "    return e\n",
    "\n",
    "def PSNR(name):\n",
    "    # 讀取圖片\n",
    "    img1 = cv2.imread(f'processed_image/{name}.png')\n",
    "    img2 = cv2.imread(f'image/{name}.tiff')\n",
    "\n",
    "    # 計算 MSE\n",
    "    mse = np.mean((img1 - img2) ** 2)\n",
    "    if mse == 0:\n",
    "        print(\"兩張圖片完全相同\")\n",
    "    else:\n",
    "        # 計算 PSNR\n",
    "        PIXEL_MAX = 255.0\n",
    "        psnr = 20 * np.log10(PIXEL_MAX / np.sqrt(mse))\n",
    "        print(f\"PSNR: {psnr} dB\")\n",
    "    return psnr"
   ]
  },
  {
   "cell_type": "code",
   "execution_count": 57,
   "id": "62af8f92",
   "metadata": {},
   "outputs": [
    {
     "name": "stdout",
     "output_type": "stream",
     "text": [
      "產生驗證碼完成\n"
     ]
    },
    {
     "name": "stderr",
     "output_type": "stream",
     "text": [
      "c:\\Users\\nchulib\\Desktop\\vscode\\code\\invert_LSB_module.py:272: RuntimeWarning: overflow encountered in scalar subtract\n",
      "  error2 = abs(b-x)\n",
      "c:\\Users\\nchulib\\Desktop\\vscode\\code\\invert_LSB_module.py:271: RuntimeWarning: overflow encountered in scalar subtract\n",
      "  error1 = abs(a-x)\n"
     ]
    },
    {
     "name": "stdout",
     "output_type": "stream",
     "text": [
      "U長= 2\n"
     ]
    },
    {
     "name": "stderr",
     "output_type": "stream",
     "text": [
      "c:\\Users\\nchulib\\Desktop\\vscode\\code\\invert_LSB_module.py:162: RuntimeWarning: overflow encountered in scalar subtract\n",
      "  distance = math.sqrt((group[0] - pixel[0])**2 + (group[1] - pixel[1])**2 + (group[2] - pixel[2])**2)\n",
      "c:\\Users\\nchulib\\Desktop\\vscode\\code\\invert_LSB_module.py:162: RuntimeWarning: overflow encountered in scalar add\n",
      "  distance = math.sqrt((group[0] - pixel[0])**2 + (group[1] - pixel[1])**2 + (group[2] - pixel[2])**2)\n"
     ]
    },
    {
     "name": "stdout",
     "output_type": "stream",
     "text": [
      "PSNR: 47.65753829247523 dB\n",
      "產生驗證碼完成\n"
     ]
    },
    {
     "name": "stderr",
     "output_type": "stream",
     "text": [
      "c:\\Users\\nchulib\\Desktop\\vscode\\code\\invert_LSB_module.py:271: RuntimeWarning: overflow encountered in scalar subtract\n",
      "  error1 = abs(a-x)\n",
      "c:\\Users\\nchulib\\Desktop\\vscode\\code\\invert_LSB_module.py:272: RuntimeWarning: overflow encountered in scalar subtract\n",
      "  error2 = abs(b-x)\n"
     ]
    },
    {
     "name": "stdout",
     "output_type": "stream",
     "text": [
      "U長= 2\n"
     ]
    },
    {
     "name": "stderr",
     "output_type": "stream",
     "text": [
      "c:\\Users\\nchulib\\Desktop\\vscode\\code\\invert_LSB_module.py:162: RuntimeWarning: overflow encountered in scalar subtract\n",
      "  distance = math.sqrt((group[0] - pixel[0])**2 + (group[1] - pixel[1])**2 + (group[2] - pixel[2])**2)\n",
      "c:\\Users\\nchulib\\Desktop\\vscode\\code\\invert_LSB_module.py:162: RuntimeWarning: overflow encountered in scalar add\n",
      "  distance = math.sqrt((group[0] - pixel[0])**2 + (group[1] - pixel[1])**2 + (group[2] - pixel[2])**2)\n"
     ]
    },
    {
     "ename": "OverflowError",
     "evalue": "Python integer -2 out of bounds for uint8",
     "output_type": "error",
     "traceback": [
      "\u001b[31m---------------------------------------------------------------------------\u001b[39m",
      "\u001b[31mOverflowError\u001b[39m                             Traceback (most recent call last)",
      "\u001b[36mCell\u001b[39m\u001b[36m \u001b[39m\u001b[32mIn[57]\u001b[39m\u001b[32m, line 14\u001b[39m\n\u001b[32m     12\u001b[39m \u001b[38;5;28;01mfor\u001b[39;00m name \u001b[38;5;129;01min\u001b[39;00m imagelist:\n\u001b[32m     13\u001b[39m     image = np.array(Image.open(\u001b[33mf\u001b[39m\u001b[33m'\u001b[39m\u001b[33mimage/\u001b[39m\u001b[38;5;132;01m{\u001b[39;00mname\u001b[38;5;132;01m}\u001b[39;00m\u001b[33m.tiff\u001b[39m\u001b[33m'\u001b[39m).convert(\u001b[33m'\u001b[39m\u001b[33mRGB\u001b[39m\u001b[33m'\u001b[39m),np.uint8)\n\u001b[32m---> \u001b[39m\u001b[32m14\u001b[39m     Stego, payload = \u001b[43mmainprogram\u001b[49m\u001b[43m.\u001b[49m\u001b[43mpropose_main\u001b[49m\u001b[43m(\u001b[49m\u001b[43mname\u001b[49m\u001b[43m,\u001b[49m\u001b[43mimage\u001b[49m\u001b[43m,\u001b[49m\u001b[43m \u001b[49m\u001b[43mlr\u001b[49m\u001b[43m,\u001b[49m\u001b[43m \u001b[49m\u001b[43mlr\u001b[49m\u001b[43m,\u001b[49m\u001b[43m \u001b[49m\u001b[32;43m2\u001b[39;49m\u001b[43m)\u001b[49m\n\u001b[32m     15\u001b[39m     psnr = PSNR(name)\n\u001b[32m     16\u001b[39m     results.append({\n\u001b[32m     17\u001b[39m         \u001b[33m\"\u001b[39m\u001b[33mname\u001b[39m\u001b[33m\"\u001b[39m: name,\n\u001b[32m     18\u001b[39m         \u001b[33m\"\u001b[39m\u001b[33mlr\u001b[39m\u001b[33m\"\u001b[39m: lr,\n\u001b[32m     19\u001b[39m         \u001b[33m\"\u001b[39m\u001b[33mpsnr\u001b[39m\u001b[33m\"\u001b[39m: psnr,\n\u001b[32m     20\u001b[39m         \u001b[33m\"\u001b[39m\u001b[33mpayload\u001b[39m\u001b[33m\"\u001b[39m: payload\n\u001b[32m     21\u001b[39m     })\n",
      "\u001b[36mFile \u001b[39m\u001b[32mc:\\Users\\nchulib\\Desktop\\vscode\\code\\mainprogram.py:114\u001b[39m, in \u001b[36mpropose_main\u001b[39m\u001b[34m(name, img, len_r, len_b, alpha)\u001b[39m\n\u001b[32m    112\u001b[39m ii = i*gray_img.shape[\u001b[32m1\u001b[39m]+j+\u001b[32m1\u001b[39m\n\u001b[32m    113\u001b[39m \u001b[38;5;28;01mif\u001b[39;00m gray_img[i][j] \u001b[38;5;129;01min\u001b[39;00m U_second_un:\u001b[38;5;66;03m#嵌入長度只有2\u001b[39;00m\n\u001b[32m--> \u001b[39m\u001b[32m114\u001b[39m     second_matrix[i][j]=\u001b[43mgggg\u001b[49m\u001b[43m(\u001b[49m\u001b[43mimg\u001b[49m\u001b[43m[\u001b[49m\u001b[43mi\u001b[49m\u001b[43m]\u001b[49m\u001b[43m[\u001b[49m\u001b[43mj\u001b[49m\u001b[43m]\u001b[49m\u001b[43m,\u001b[49m\u001b[43mii\u001b[49m\u001b[43m,\u001b[49m\u001b[43malpha\u001b[49m\u001b[43m)\u001b[49m\u001b[38;5;66;03m#propose方法\u001b[39;00m\n\u001b[32m    115\u001b[39m     proposed_embedded_num += \u001b[32m2\u001b[39m\n\u001b[32m    116\u001b[39m     tmp1+=\u001b[32m1\u001b[39m\n",
      "\u001b[36mFile \u001b[39m\u001b[32mc:\\Users\\nchulib\\Desktop\\vscode\\code\\invert_LSB_module.py:348\u001b[39m, in \u001b[36mgggg\u001b[39m\u001b[34m(pixel, ii, alpha)\u001b[39m\n\u001b[32m    346\u001b[39m \u001b[38;5;28;01mfor\u001b[39;00m dr \u001b[38;5;129;01min\u001b[39;00m \u001b[38;5;28mrange\u001b[39m(-alpha, alpha + \u001b[32m1\u001b[39m):\n\u001b[32m    347\u001b[39m     \u001b[38;5;28;01mfor\u001b[39;00m db \u001b[38;5;129;01min\u001b[39;00m \u001b[38;5;28mrange\u001b[39m(-alpha, alpha + \u001b[32m1\u001b[39m):\n\u001b[32m--> \u001b[39m\u001b[32m348\u001b[39m         perturbed_g = \u001b[43mg\u001b[49m\u001b[43m \u001b[49m\u001b[43m+\u001b[49m\u001b[43m \u001b[49m\u001b[43mdg\u001b[49m\n\u001b[32m    349\u001b[39m         perturbed_r = r + dr\n\u001b[32m    350\u001b[39m         perturbed_b = bb+ db*\u001b[32m4\u001b[39m\n",
      "\u001b[31mOverflowError\u001b[39m: Python integer -2 out of bounds for uint8"
     ]
    }
   ],
   "source": [
    "from matplotlib import pyplot as plt\n",
    "import mainprogram\n",
    "from importlib import reload\n",
    "reload(mainprogram)\n",
    "\n",
    "imagelist = ['bean']\n",
    "\n",
    "l = [2, 3, 4]\n",
    "results = []\n",
    "name = 'jet'\n",
    "for lr in l:\n",
    "    for name in imagelist:\n",
    "        image = np.array(Image.open(f'image/{name}.tiff').convert('RGB'),np.uint8)\n",
    "        Stego, payload = mainprogram.propose_main(name,image, lr, lr, 2)\n",
    "        psnr = PSNR(name)\n",
    "        results.append({\n",
    "            \"name\": name,\n",
    "            \"lr\": lr,\n",
    "            \"psnr\": psnr,\n",
    "            \"payload\": payload\n",
    "        })\n",
    "\n",
    "df = pd.DataFrame(results, columns=[\"name\", \"lr\", \"psnr\", \"payload\"])\n",
    "df.to_csv(f\"processed_data/{name}.csv\", index=False, encoding=\"utf-8-sig\")\n",
    "# error_image = embeding(Stego, 'jet')\n",
    "# io.imsave(f'embeding_noise/{name}.png', error_image.astype(np.uint8))\n",
    "#authorize(name)"
   ]
  },
  {
   "cell_type": "code",
   "execution_count": 24,
   "id": "333913ea",
   "metadata": {},
   "outputs": [
    {
     "name": "stderr",
     "output_type": "stream",
     "text": [
      "C:\\Users\\nchulib\\AppData\\Local\\Temp\\ipykernel_2424\\680576182.py:108: FutureWarning: `imshow` is deprecated since version 0.25 and will be removed in version 0.27. Please use `matplotlib`, `napari`, etc. to visualize images.\n",
      "  io.imshow(e)\n"
     ]
    },
    {
     "name": "stdout",
     "output_type": "stream",
     "text": [
      "U_second: [25, 26, 27, 28, 30, 31, 32, 43, 44, 45, 46, 47, 48, 50, 56, 57, 58, 59, 60, 61, 62, 63, 64, 65, 66, 69, 70, 71, 72, 75, 77, 78, 79, 80, 81, 82, 83, 84, 85, 86, 87, 88, 89, 90, 91]\n",
      "U_second_un: []\n"
     ]
    },
    {
     "name": "stderr",
     "output_type": "stream",
     "text": [
      "c:\\Users\\nchulib\\Desktop\\vscode\\code\\invert_LSB_module.py:162: RuntimeWarning: overflow encountered in scalar subtract\n",
      "  distance = math.sqrt((group[0] - pixel[0])**2 + (group[1] - pixel[1])**2 + (group[2] - pixel[2])**2)\n",
      "c:\\Users\\nchulib\\Desktop\\vscode\\code\\invert_LSB_module.py:162: RuntimeWarning: overflow encountered in scalar add\n",
      "  distance = math.sqrt((group[0] - pixel[0])**2 + (group[1] - pixel[1])**2 + (group[2] - pixel[2])**2)\n",
      "c:\\Users\\nchulib\\Desktop\\vscode\\code\\invert_LSB_module.py:272: RuntimeWarning: overflow encountered in scalar subtract\n",
      "  error2 = abs(b-x)\n",
      "c:\\Users\\nchulib\\Desktop\\vscode\\code\\invert_LSB_module.py:271: RuntimeWarning: overflow encountered in scalar subtract\n",
      "  error1 = abs(a-x)\n"
     ]
    },
    {
     "name": "stdout",
     "output_type": "stream",
     "text": [
      "Detected error: 5628, Actual error: 6069, Accuracy: 0.9273356401384083\n"
     ]
    },
    {
     "name": "stderr",
     "output_type": "stream",
     "text": [
      "C:\\Users\\nchulib\\AppData\\Local\\Temp\\ipykernel_2424\\680576182.py:87: FutureWarning: `imshow` is deprecated since version 0.25 and will be removed in version 0.27. Please use `matplotlib`, `napari`, etc. to visualize images.\n",
      "  io.imshow(detect_image.astype(np.uint8))\n"
     ]
    },
    {
     "data": {
      "text/plain": [
       "5628"
      ]
     },
     "execution_count": 24,
     "metadata": {},
     "output_type": "execute_result"
    },
    {
     "data": {
      "image/png": "[encoded data removed]",
      "text/plain": [
       "<Figure size 640x480 with 1 Axes>"
      ]
     },
     "metadata": {},
     "output_type": "display_data"
    }
   ],
   "source": [
    "error_image = embeding(Stego, 'jet')\n",
    "io.imsave(f'embeding_noise/{name}.png', error_image.astype(np.uint8))\n",
    "authorize('jet')"
   ]
  }
 ],
 "metadata": {
  "kernelspec": {
   "display_name": "Python 3",
   "language": "python",
   "name": "python3"
  },
  "language_info": {
   "codemirror_mode": {
    "name": "ipython",
    "version": 3
   },
   "file_extension": ".py",
   "mimetype": "text/x-python",
   "name": "python",
   "nbconvert_exporter": "python",
   "pygments_lexer": "ipython3",
   "version": "3.13.5"
  }
 },
 "nbformat": 4,
 "nbformat_minor": 5
}

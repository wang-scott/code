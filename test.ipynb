{
 "cells": [
  {
   "cell_type": "code",
   "execution_count": 1,
   "id": "a579844c",
   "metadata": {},
   "outputs": [],
   "source": [
    "import mainprogram\n",
    "from PIL import Image\n",
    "import numpy as np\n",
    "import csv\n",
    "import random\n",
    "from skimage import io\n",
    "from invert_LSB_module import *\n",
    "import os"
   ]
  },
  {
   "cell_type": "code",
   "execution_count": 2,
   "id": "e95a815e",
   "metadata": {},
   "outputs": [],
   "source": [
    "name = 'jet'\n",
    "len_r = len_b = 4"
   ]
  },
  {
   "cell_type": "code",
   "execution_count": 3,
   "id": "3f2193c6",
   "metadata": {},
   "outputs": [
    {
     "name": "stdout",
     "output_type": "stream",
     "text": [
      "產生驗證碼完成\n"
     ]
    }
   ],
   "source": [
    "stego_img = io.imread(f'processed_image/{name}.png')\n",
    "authentication_code = hash_all_pixel(stego_img,len_r,len_b)"
   ]
  },
  {
   "cell_type": "code",
   "execution_count": 11,
   "id": "a8bb4b6b",
   "metadata": {},
   "outputs": [],
   "source": [
    "import mainprogram\n",
    "from PIL import Image\n",
    "import numpy as np\n",
    "import csv\n",
    "import random\n",
    "from skimage import io\n",
    "from invert_LSB_module import *\n",
    "import os\n",
    "\n",
    "def authorize(name, len_r=4, len_b=4, alpha=2):\n",
    "    # 初始化陣列\n",
    "    U_second = []\n",
    "    U_second_un = []\n",
    "    detect_image = np.zeros((512, 512, 3))\n",
    "    # 指定 CSV 檔案名稱\n",
    "    csv_filename = f'list/{name}.csv'\n",
    "    \n",
    "    # 從 CSV 檔案讀取資料\n",
    "    with open(csv_filename, mode='r', newline='', encoding='utf-8') as file:\n",
    "        reader = csv.reader(file)\n",
    "        # 跳過表頭\n",
    "        next(reader)\n",
    "        # 將資料放入陣列\n",
    "        for row in reader:\n",
    "            if row[0].strip() != \"\":\n",
    "                U_second.append(int(row[0]))\n",
    "            if row[1].strip() != \"\":\n",
    "                U_second_un.append(int(row[1]))\n",
    "                \n",
    "    print(\"U_second:\", U_second)\n",
    "    print(\"U_second_un:\", U_second_un)\n",
    " \n",
    "    stego_img = io.imread(f'embeding_noise/{name}.png')\n",
    "    I = Image.open(f'processed_image/{name}.png').convert('RGB')\n",
    "    I = np.array(I)\n",
    "    gray_img = rgb2gray(stego_img)\n",
    "    bin_matrix = dec2bin(stego_img)\n",
    "\n",
    "    len_bb = (len_r + len_b) // 2\n",
    "\n",
    "    # 開始驗證\n",
    "    detected_error = 0\n",
    "    divid4 = (stego_img//(2**len_r))*(2**len_r)\n",
    "    \n",
    "    for i in range(stego_img.shape[0]):\n",
    "        for j in range(stego_img.shape[1]):\n",
    "            ii = i * stego_img.shape[1] + j + 1\n",
    "            detect_image[i][j] = (255, 255, 255)\n",
    "            flag = True\n",
    "            if gray_img[i][j] in U_second_un:\n",
    "                ac1 = bin_matrix[i][j][2][6:] #取出的驗證碼\n",
    "                ac2 = dec2bin(gggg(stego_img[i][j], ii, alpha))[2][6:] #算出的驗證碼\n",
    "                if ac1 == ac2:\n",
    "                    detect_image[i][j] = (0, 0, 0) \n",
    "                    flag = False   \n",
    "            elif gray_img[i][j] in U_second:\n",
    "                ac1 = bin_matrix[i][j][2][8-len_bb:] \n",
    "                ac2 = dec2bin(proposed_unsolvable_case(stego_img[i][j], ii, len_bb))[2][8-len_bb:]\n",
    "                if ac1 == ac2:\n",
    "                    detect_image[i][j] = (0, 0, 0) \n",
    "                    flag = False\n",
    "            else:\n",
    "                a = int(Embedding(bin_matrix[i][j][2],authentication_code[i][j][:len_r],length=len_r),2)#red\n",
    "                b = int(Embedding(bin_matrix[i][j][2],authentication_code[i][j][:len_r],1,length=len_r),2)#red\n",
    "                ac_b = eee(a,b,stego_img[i][j][2])\n",
    "                c = int(Embedding(bin_matrix[i][j][0],authentication_code[i][j][len_r:],length=len_b),2)#blue\n",
    "                d = int(Embedding(bin_matrix[i][j][0],authentication_code[i][j][len_r:],1,length=len_b),2)#blue\n",
    "                ac_r = eee(c,d,stego_img[i][j][0])\n",
    "\n",
    "                current_r = int(bin_matrix[i][j][0],2)\n",
    "                current_b = int(bin_matrix[i][j][2],2)\n",
    "                if ac_r == current_r and ac_b == current_b:\n",
    "                    detect_image[i][j] = (0, 0, 0)\n",
    "                    flag = False\n",
    "            if flag:\n",
    "                detected_error += 1\n",
    "\n",
    "    diff_pixels = 0\n",
    "    for i in range(I.shape[0]):\n",
    "        for j in range(I.shape[1]):\n",
    "            if(I[i,j] != stego_img[i,j]).any():\n",
    "               diff_pixels+=1 \n",
    "               \n",
    "    accuracy = detected_error/diff_pixels\n",
    "    print(f\"Detected error: {detected_error}, Actual error: {diff_pixels}, Accuracy: {accuracy}\")\n",
    "    io.imshow(detect_image.astype(np.uint8))\n",
    "    return detected_error\n",
    "    \n",
    "def embeding(image,n):\n",
    "    def noise(I,Noise):\n",
    "        n_r,n_c = Noise.shape[0],Noise.shape[1]\n",
    "\n",
    "        r_base = random.randint(0,I.shape[0]-n_r)\n",
    "        c_base = random.randint(0,I.shape[1]-n_c)\n",
    "        for i in range(n_r):\n",
    "            for j in range(n_c):\n",
    "                if(Noise[i, j,3]==0):\n",
    "                    continue\n",
    "                for k in range(3):\n",
    "                    I[i+r_base,j+c_base,k] = Noise[i,j,k]\n",
    "\n",
    "        return I\n",
    "    I=image.copy()\n",
    "    path2 = \"noise/\"+n+\".png\"\n",
    "    I2=io.imread(path2)\n",
    "    e = noise(I,I2)\n",
    "    io.imshow(e)\n",
    "    #io.show() \n",
    "    return e\n"
   ]
  },
  {
   "cell_type": "code",
   "execution_count": 12,
   "id": "62af8f92",
   "metadata": {},
   "outputs": [
    {
     "name": "stdout",
     "output_type": "stream",
     "text": [
      "U_second: [43, 44, 45, 46, 48, 50, 55, 56, 57, 58, 60, 61, 62, 63, 64, 65, 66, 69, 70, 71, 72, 75, 78, 80, 81, 83, 84, 85, 86, 87, 88, 89, 90, 91]\n",
      "U_second_un: []\n"
     ]
    },
    {
     "name": "stderr",
     "output_type": "stream",
     "text": [
      "c:\\Users\\nchulib\\Desktop\\vscode\\-\\invert_LSB_module.py:162: RuntimeWarning: overflow encountered in scalar subtract\n",
      "  distance = math.sqrt((group[0] - pixel[0])**2 + (group[1] - pixel[1])**2 + (group[2] - pixel[2])**2)\n",
      "c:\\Users\\nchulib\\Desktop\\vscode\\-\\invert_LSB_module.py:162: RuntimeWarning: overflow encountered in scalar add\n",
      "  distance = math.sqrt((group[0] - pixel[0])**2 + (group[1] - pixel[1])**2 + (group[2] - pixel[2])**2)\n",
      "c:\\Users\\nchulib\\Desktop\\vscode\\-\\invert_LSB_module.py:272: RuntimeWarning: overflow encountered in scalar subtract\n",
      "  error2 = abs(b-x)\n",
      "c:\\Users\\nchulib\\Desktop\\vscode\\-\\invert_LSB_module.py:271: RuntimeWarning: overflow encountered in scalar subtract\n",
      "  error1 = abs(a-x)\n"
     ]
    },
    {
     "name": "stdout",
     "output_type": "stream",
     "text": [
      "Detected error: 5625, Actual error: 6070, Accuracy: 0.9266886326194399\n"
     ]
    },
    {
     "name": "stderr",
     "output_type": "stream",
     "text": [
      "C:\\Users\\nchulib\\AppData\\Local\\Temp\\ipykernel_13380\\99779430.py:86: FutureWarning: `imshow` is deprecated since version 0.25 and will be removed in version 0.27. Please use `matplotlib`, `napari`, etc. to visualize images.\n",
      "  io.imshow(detect_image.astype(np.uint8))\n"
     ]
    },
    {
     "data": {
      "text/plain": [
       "5625"
      ]
     },
     "execution_count": 12,
     "metadata": {},
     "output_type": "execute_result"
    },
    {
     "data": {
      "image/png": "[encoded data removed]",
      "text/plain": [
       "<Figure size 640x480 with 1 Axes>"
      ]
     },
     "metadata": {},
     "output_type": "display_data"
    }
   ],
   "source": [
    "image = np.array(Image.open('image/jet.tiff'))\n",
    "name = 'jet'\n",
    "# Stego, _ = mainprogram.propose_main(name,image, 4, 4, 2)\n",
    "# error_image = embeding(Stego, 'jet')\n",
    "# io.imsave(f'embeding_noise/{name}.png', error_image.astype(np.uint8))\n",
    "authorize(name)"
   ]
  }
 ],
 "metadata": {
  "kernelspec": {
   "display_name": "Python 3",
   "language": "python",
   "name": "python3"
  },
  "language_info": {
   "codemirror_mode": {
    "name": "ipython",
    "version": 3
   },
   "file_extension": ".py",
   "mimetype": "text/x-python",
   "name": "python",
   "nbconvert_exporter": "python",
   "pygments_lexer": "ipython3",
   "version": "3.13.5"
  }
 },
 "nbformat": 4,
 "nbformat_minor": 5
}
